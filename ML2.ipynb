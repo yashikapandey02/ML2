{
 "cells": [
  {
   "cell_type": "code",
   "execution_count": null,
   "id": "9af66db3",
   "metadata": {},
   "outputs": [],
   "source": [
    "1. What is the concept of human learning? Please give two examples."
   ]
  },
  {
   "cell_type": "code",
   "execution_count": null,
   "id": "7609165b",
   "metadata": {},
   "outputs": [],
   "source": [
    "Ans:Human Learning is the process of gaining information. This information gain can be in form of a behavioural, \n",
    "    educational or personal.Two types of Human learning can be visual learning where we see things, and then learn and retain\n",
    "    information. Second is reading or writing based.\n"
   ]
  },
  {
   "cell_type": "code",
   "execution_count": null,
   "id": "8b1a1c7d",
   "metadata": {},
   "outputs": [],
   "source": [
    "2. What different forms of human learning are there? Are there any machine learning equivalents?"
   ]
  },
  {
   "cell_type": "code",
   "execution_count": null,
   "id": "2dedcb66",
   "metadata": {},
   "outputs": [],
   "source": [
    "Ans:Studying under supervision, studying without supervision are some of the forms of human learning. \n",
    "    Equivalents of this are supervised, unsupervised machine learning."
   ]
  },
  {
   "cell_type": "code",
   "execution_count": null,
   "id": "45cf413f",
   "metadata": {},
   "outputs": [],
   "source": [
    "3. What is machine learning, and how does it work? What are the key responsibilities of machine learning?"
   ]
  },
  {
   "cell_type": "code",
   "execution_count": null,
   "id": "6b7c1af0",
   "metadata": {},
   "outputs": [],
   "source": [
    "Ans: Machine Learning is a subset of AI which provides mathematical tools to analyze data, do Exploratory Data Analysis,\n",
    "    make predictive models and exposed APIs and more. Machine Learning works by providing the computer capability to make\n",
    "    predictions or help analysis of data by creating complex algorithmic models that are trained to work within constraints\n",
    "    that have to be specified in training data.\n",
    "    Key Responsibilities of Machine Leaning are highly specific to the domain in which it is being used.\n"
   ]
  },
  {
   "cell_type": "code",
   "execution_count": null,
   "id": "9645fd7c",
   "metadata": {},
   "outputs": [],
   "source": [
    "4. Define the terms \"penalty\" and \"reward\" in the context of reinforcement learning."
   ]
  },
  {
   "cell_type": "code",
   "execution_count": null,
   "id": "20c1553b",
   "metadata": {},
   "outputs": [],
   "source": [
    "Ans:Penalty is just like regularization term in logistic Regression function that penalizes overfitting and underfitting.\n",
    "    In reinforcement learning, a penalty is imposed in the training phase for every wrong prediction or classification, \n",
    "    in other words it sets the algorithm one step back. A reward is gained for every correct prediction or classification,\n",
    "    which means the algorithm goes one step ahead towards making itself more effective. Hundreds of such iterations are \n",
    "    performed over and over for the model to become ready"
   ]
  },
  {
   "cell_type": "code",
   "execution_count": null,
   "id": "f9a6c2be",
   "metadata": {},
   "outputs": [],
   "source": [
    "5. Explain the term \"learning as a search\"?"
   ]
  },
  {
   "cell_type": "code",
   "execution_count": null,
   "id": "05c88e49",
   "metadata": {},
   "outputs": [],
   "source": [
    "Ans:Parsing through a universal set of high cardinality, consisting of hypothesis that can be fit over a training data to \n",
    "    find the best hypothesis is concept of learning as a search"
   ]
  },
  {
   "cell_type": "code",
   "execution_count": null,
   "id": "028ceb1c",
   "metadata": {},
   "outputs": [],
   "source": [
    "6. What are the various goals of machine learning? What is the relationship between these and human learning?"
   ]
  },
  {
   "cell_type": "code",
   "execution_count": null,
   "id": "b9699692",
   "metadata": {},
   "outputs": [],
   "source": [
    "Ans:Goals of machine learning are to implement current existing algorithms over data to help analyze, explore, \n",
    "    visualize data and create interpretable and generalizable algorithmic models for making predictions over unseen data"
   ]
  },
  {
   "cell_type": "code",
   "execution_count": null,
   "id": "599a5381",
   "metadata": {},
   "outputs": [],
   "source": [
    "7. Illustrate the various elements of machine learning using a real-life illustration."
   ]
  },
  {
   "cell_type": "code",
   "execution_count": null,
   "id": "30379c9c",
   "metadata": {},
   "outputs": [],
   "source": [
    "Ans:Machine Learning starts with defining a problem statement, a student too starts with an objective to study specified \n",
    "    syllabus Data has to be acquired for Machine Learning. A student gathers books and other materials for study\n",
    "Data is then refined and cleaned to be used for EDA. A student also seperates or highlights out points and questions\n",
    "that are important Machine Learning model then learns using training data. A student also uses example questions, mcq\n",
    "already discussed to learn Then, Machine Learning model is tested over unseen data using an evaluation metric. A student\n",
    "also takes an exam and scores in evaluation metrics that can be GPA, percentile or percentage"
   ]
  },
  {
   "cell_type": "code",
   "execution_count": null,
   "id": "42d49b8c",
   "metadata": {},
   "outputs": [],
   "source": [
    "8. Provide an example of the abstraction method."
   ]
  },
  {
   "cell_type": "code",
   "execution_count": null,
   "id": "b6d2071f",
   "metadata": {},
   "outputs": [],
   "source": [
    "Ans:Feature selection is done to reduce dimensionality by only selecting the most relevant and important features for our\n",
    "    machine learning model to become more efficient, effective and interpretable. This removal of irrelevant or unimportant\n",
    "    features from the dataset is one example of abstraction in machine learning"
   ]
  },
  {
   "cell_type": "code",
   "execution_count": null,
   "id": "03ca0169",
   "metadata": {},
   "outputs": [],
   "source": [
    "9. What is the concept of generalization? What function does it play in the machine learning process?"
   ]
  },
  {
   "cell_type": "code",
   "execution_count": null,
   "id": "e2df09d2",
   "metadata": {},
   "outputs": [],
   "source": []
  },
  {
   "cell_type": "code",
   "execution_count": null,
   "id": "61e20d85",
   "metadata": {},
   "outputs": [],
   "source": [
    "Ans:Generalization is the characteristic of a machine learning model that dictates how much variations in the input data \n",
    "    regarding problem statement can a model handle. Low generalization would mean that the model will not be able to give\n",
    "    correct results over varied data, meaning overfitting or high variance. High generalization would mean that the model \n",
    "    will be able to give correct results over varied data.\n"
   ]
  },
  {
   "cell_type": "code",
   "execution_count": null,
   "id": "b4dceacd",
   "metadata": {},
   "outputs": [],
   "source": [
    "10.What is classification, exactly? What are the main distinctions between classification and regression?"
   ]
  },
  {
   "cell_type": "code",
   "execution_count": null,
   "id": "99996159",
   "metadata": {},
   "outputs": [],
   "source": [
    "Ans:Classification is successful labeling of a datapoint out of a finite set of labels available for a dataset, using the \n",
    "    independent features that have direct impact over what label a datapoint would get."
   ]
  },
  {
   "cell_type": "code",
   "execution_count": null,
   "id": "f3eb1ea6",
   "metadata": {},
   "outputs": [],
   "source": [
    "11. What is regression, and how does it work? Give an example of a real-world problem that was solved using regression."
   ]
  },
  {
   "cell_type": "code",
   "execution_count": null,
   "id": "69df29bd",
   "metadata": {},
   "outputs": [],
   "source": [
    "Ans:Regression is defined as prediction of a value of a target variable out of an infinite set of possible values, using one\n",
    "    or more independent variables."
   ]
  },
  {
   "cell_type": "code",
   "execution_count": null,
   "id": "33306fea",
   "metadata": {},
   "outputs": [],
   "source": [
    "12. Describe the clustering mechanism in detail."
   ]
  },
  {
   "cell_type": "code",
   "execution_count": null,
   "id": "b7c2c5f4",
   "metadata": {},
   "outputs": [],
   "source": [
    "Ans:Clustering mechanism can different based on the algorithm used.*\n",
    "a. For K means clustering, Lloyd's algorithm as a mathematical approximation. First we pick K random data points and call them our centroids.\n",
    "b. for each data point nearest to a centroid, assign that data point to that centroid and recompute centroid values.\n",
    "c. If old and calculated centroid values are the same or similar, then the old centroid goes on. Else, the calculated centroid becomes the new centroid.\n",
    "d. The above 2 steps are repeated until convergence is reached and every data point is successfully assigned to a cluster."
   ]
  },
  {
   "cell_type": "code",
   "execution_count": null,
   "id": "9aec280e",
   "metadata": {},
   "outputs": [],
   "source": []
  }
 ],
 "metadata": {
  "kernelspec": {
   "display_name": "Python 3 (ipykernel)",
   "language": "python",
   "name": "python3"
  },
  "language_info": {
   "codemirror_mode": {
    "name": "ipython",
    "version": 3
   },
   "file_extension": ".py",
   "mimetype": "text/x-python",
   "name": "python",
   "nbconvert_exporter": "python",
   "pygments_lexer": "ipython3",
   "version": "3.9.7"
  }
 },
 "nbformat": 4,
 "nbformat_minor": 5
}
